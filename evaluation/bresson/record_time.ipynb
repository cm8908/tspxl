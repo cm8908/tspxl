{
 "cells": [
  {
   "cell_type": "code",
   "execution_count": 118,
   "metadata": {},
   "outputs": [],
   "source": [
    "import re\n",
    "import pandas as pd\n",
    "import matplotlib.pyplot as plt\n",
    "import numpy as np\n",
    "from glob import glob"
   ]
  },
  {
   "cell_type": "code",
   "execution_count": 77,
   "metadata": {},
   "outputs": [],
   "source": [
    "files = {\n",
    "    'van': 'logs/bresson_best_*.txt',  # '(Baseline) Bresson TSP Transformer'\n",
    "    'xl': 'logs/bressonxl_*.txt',  # 'TSP Transformer with XL Decoder'\n",
    "    'xlr': 'logs/bressonxl_rpe_*.txt'  # 'TSP Transformer with XL Decoder and RPE'\n",
    "}"
   ]
  },
  {
   "cell_type": "code",
   "execution_count": 78,
   "metadata": {},
   "outputs": [
    {
     "name": "stdout",
     "output_type": "stream",
     "text": [
      "van:logs/bresson_best_22-08-05--16-25-19-n50-gpu6.txt\n",
      "xl:logs/bressonxl_22-08-08--14-21-05-n50-gpu7.txt\n",
      "xlr:logs/bressonxl_rpe_22-08-07--16-36-01-n50-gpu5.txt\n"
     ]
    }
   ],
   "source": [
    "n_epoch_count = 50\n",
    "start_lines = [20, 22, 21]\n",
    "metric_names = ['epoch_time', 'tot_time', 'L_train', 'L_base', 'L_test', 'gap_train']\n",
    "result_dict = {'van': [], 'xl': [], 'xlr': []}\n",
    "for (file, fname), start_line in zip(files.items(), start_lines):\n",
    "    fname = glob(fname)[0]\n",
    "    with open(fname, 'r') as f:\n",
    "        lines = f.readlines()\n",
    "        print(f'{file}:{fname}')\n",
    "        assert lines[start_line][7] == '0'\n",
    "\n",
    "        # for line in lines[start_line:start_line+n_epoch_count]:\n",
    "        for line in lines[-n_epoch_count:]:\n",
    "            metric_values = re.findall('[0-9]*\\.[0-9]*', line)\n",
    "            metric_dict = {k:v for k, v in zip(metric_names, metric_values)}\n",
    "            result_dict[file].append(metric_dict)"
   ]
  },
  {
   "cell_type": "code",
   "execution_count": 79,
   "metadata": {},
   "outputs": [
    {
     "name": "stdout",
     "output_type": "stream",
     "text": [
      "50 50 50\n"
     ]
    }
   ],
   "source": [
    "tmp = lambda x: pd.DataFrame.from_dict(x).astype('float')\n",
    "df_van, df_xl, df_xlr = tmp(result_dict['van']), tmp(result_dict['xl']), tmp(result_dict['xlr'])\n",
    "print(len(df_van), len(df_xl), len(df_xlr))"
   ]
  },
  {
   "cell_type": "code",
   "execution_count": 83,
   "metadata": {},
   "outputs": [],
   "source": [
    "vm, xm, rm = df_van[-10:].mean(), df_xl[-10:].mean(), df_xlr[-10:].mean()"
   ]
  },
  {
   "cell_type": "code",
   "execution_count": 134,
   "metadata": {},
   "outputs": [
    {
     "data": {
      "image/png": "[encoded data removed]",
      "text/plain": [
       "<Figure size 432x288 with 1 Axes>"
      ]
     },
     "metadata": {
      "needs_background": "light"
     },
     "output_type": "display_data"
    }
   ],
   "source": [
    "# L_train\n",
    "# plt.yscale('log')\n",
    "width=0.25\n",
    "x_axis = np.arange(3); plus = 0.3\n",
    "plt.bar(x_axis, [vm['L_train'], xm['L_train'], rm['L_train']], color='blue', width=width, label='L_train')\n",
    "plt.bar(x_axis+plus, [vm['L_test'], xm['L_test'], rm['L_test']], color='green', width=width, label='L_test')\n",
    "plt.xticks(x_axis+plus/2, ['Bresson et al.', 'Ours', 'Ours + RPE'])\n",
    "plt.title('Average Tour Length')\n",
    "plt.legend(loc=4)\n",
    "# plt.yscale('log')\n",
    "plt.show()"
   ]
  },
  {
   "cell_type": "code",
   "execution_count": 170,
   "metadata": {},
   "outputs": [
    {
     "data": {
      "image/png": "[encoded data removed]",
      "text/plain": [
       "<Figure size 432x360 with 1 Axes>"
      ]
     },
     "metadata": {
      "needs_background": "light"
     },
     "output_type": "display_data"
    }
   ],
   "source": [
    "width=0.5\n",
    "x_axis = np.arange(3); plus = 0.3\n",
    "fig, ax = plt.subplots(figsize=(6,5))\n",
    "rect = ax.bar(x_axis, [vm['epoch_time'], xm['epoch_time'], rm['epoch_time']], width=width, label='epoch_time')\n",
    "# plt.bar(x_axis+plus, [vm['L_test'], xm['L_test'], rm['L_test']], color='green', width=width, label='L_test')\n",
    "plt.xticks(x_axis, ['Bresson et al.', 'Ours', 'Ours + RPE'])\n",
    "plt.title('Average Tour Length')\n",
    "ax.bar_label(rect, padding=1)\n",
    "plt.show()"
   ]
  }
 ],
 "metadata": {
  "kernelspec": {
   "display_name": "Python 3.10.5 ('pytorch')",
   "language": "python",
   "name": "python3"
  },
  "language_info": {
   "codemirror_mode": {
    "name": "ipython",
    "version": 3
   },
   "file_extension": ".py",
   "mimetype": "text/x-python",
   "name": "python",
   "nbconvert_exporter": "python",
   "pygments_lexer": "ipython3",
   "version": "3.10.5"
  },
  "orig_nbformat": 4,
  "vscode": {
   "interpreter": {
    "hash": "2d58e898dde0263bc564c6968b04150abacfd33eed9b19aaa8e45c040360e146"
   }
  }
 },
 "nbformat": 4,
 "nbformat_minor": 2
}
